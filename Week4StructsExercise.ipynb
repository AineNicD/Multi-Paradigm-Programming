{
 "cells": [
  {
   "cell_type": "markdown",
   "id": "2e3a9453",
   "metadata": {},
   "source": [
    "<div class=\"alert alert-info\">\n",
    "  <strong>Note:</strong> This notebook is week 4 tasks in multi paradigm programming. This task is in c programming language so will be uploading c files to github.  </div>"
   ]
  },
  {
   "cell_type": "markdown",
   "id": "4045dbb2",
   "metadata": {},
   "source": [
    "## Structs Exercise\n",
    "### October 11, 2021\n",
    "1 What is a Struct?\n",
    "As discussed in the previous videos a struct, short for structure, is essentially\n",
    "a composite data type. You can define what kinds of variable types exist within\n",
    "a struct. Like methods they are designed to provide structure to a program.\n",
    "They can group pieces of data together which “belong” with each other. For\n",
    "example in Listing 1 we see a struct representing a person with a name, a salary,\n",
    "and government id number.\n",
    "~~~\n",
    "1 struct Person {\n",
    "2 char name [50];\n",
    "3 int govID ;\n",
    "4 float salary ;\n",
    "5 };\n",
    "Listing 1: Simple Struct in C\n",
    "~~~\n",
    "\n",
    "## Tasks\n",
    "Create structs to represent...\n",
    "- An employee (name, age, salary, years worked, job title)\n",
    "- A college module (module name, credits it is worth)\n",
    "- Student (name, age, an array of their college modules)\n",
    "- Manager (name, age, salary, an array of the employees they manage)\n",
    "The student structure should have internally an array of college modules.\n",
    "The same goes for the manager and their employees. In Listing 2 we have a\n",
    "partial solution for some of the above tasks. We have a Student structure which\n",
    "holds an array of 10 modules, this means that each student we create can have\n",
    "10 modules. We add two modules to the student struct and we print them out.\n",
    "You can expand on this to add all the other information specified above such\n",
    "as name and age. It would be useful to keep track of how many modules have\n",
    "been added to each student, so that we know what index to place the next one.\n",
    "This can be done by storing an integer in the struct to keep track.\n",
    "\n",
    "For each struct type create a print method which outputs to the console all\n",
    "the information stored in the struct.\n",
    "~~~\n",
    "1 # include < stdio .h >\n",
    "2 # include < string .h >\n",
    "3 # include < stdlib .h >\n",
    "4\n",
    "5 struct Module {\n",
    "6 char name [50];\n",
    "7 };\n",
    "8\n",
    "9 struct Student {\n",
    "10 struct Module modules [10];\n",
    "11 };\n",
    "12\n",
    "13 void printModule ( struct Module module ){\n",
    "14 printf (\"the module name is %s\\n\", module . name );\n",
    "15 }\n",
    "16\n",
    "17 int main ( void )\n",
    "18 {\n",
    "19 struct Module module = { \"Multi - paradigm Programming \" };\n",
    "20 printModule ( module );\n",
    "21\n",
    "22 struct Student student = {};\n",
    "23 student . modules [0] = module ;\n",
    "24\n",
    "25 struct Module module2 = { \" Introduction to Programming \" };\n",
    "26 student . modules [1] = module2 ;\n",
    "27\n",
    "28 printModule ( student . modules [0]) ;\n",
    "29 printModule ( student . modules [1]) ;\n",
    "30\n",
    "31\n",
    "32 return 0;\n",
    "33 }\n",
    "Listing 2: Struct Example\n",
    "~~~\n"
   ]
  },
  {
   "cell_type": "markdown",
   "id": "b912104b",
   "metadata": {},
   "source": [
    "## Reference\n",
    "- Dr. Dominic Carr course material"
   ]
  }
 ],
 "metadata": {
  "kernelspec": {
   "display_name": "Python 3",
   "language": "python",
   "name": "python3"
  },
  "language_info": {
   "codemirror_mode": {
    "name": "ipython",
    "version": 3
   },
   "file_extension": ".py",
   "mimetype": "text/x-python",
   "name": "python",
   "nbconvert_exporter": "python",
   "pygments_lexer": "ipython3",
   "version": "3.8.8"
  }
 },
 "nbformat": 4,
 "nbformat_minor": 5
}
